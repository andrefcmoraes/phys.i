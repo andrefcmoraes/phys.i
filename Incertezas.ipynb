{
 "cells": [
  {
   "cell_type": "markdown",
   "id": "korean-captain",
   "metadata": {},
   "source": [
    "## INCERTEZAS"
   ]
  },
  {
   "cell_type": "code",
   "execution_count": 1,
   "id": "classified-atmosphere",
   "metadata": {},
   "outputs": [],
   "source": [
    "from uncertainties import ufloat as u"
   ]
  },
  {
   "cell_type": "markdown",
   "id": "mighty-romance",
   "metadata": {},
   "source": [
    "Para régua em centímetros"
   ]
  },
  {
   "cell_type": "code",
   "execution_count": 18,
   "id": "first-snapshot",
   "metadata": {},
   "outputs": [],
   "source": [
    "h0 = u(70,0.05)\n",
    "h1 = u(70,0.05)\n",
    "h2 = u(70,0.05)\n",
    "h3 = u(70,0.05)\n",
    "h4 = u(70,0.05)\n",
    "h5 = u(80,0.05)\n",
    "h6 = u(130,0.05)\n",
    "h7 = u(130,0.05)\n",
    "h8 = u(130,0.05)\n",
    "h9 = u(80,0.05)\n",
    "h10 = u(80,0.05)"
   ]
  },
  {
   "cell_type": "markdown",
   "id": "bearing-filling",
   "metadata": {},
   "source": [
    "Média"
   ]
  },
  {
   "cell_type": "code",
   "execution_count": 17,
   "id": "figured-surgery",
   "metadata": {},
   "outputs": [
    {
     "data": {
      "text/plain": [
       "70.0+/-0.0223606797749979"
      ]
     },
     "execution_count": 17,
     "metadata": {},
     "output_type": "execute_result"
    }
   ],
   "source": [
    "(h0+h1+h2+h3+h4)/5"
   ]
  },
  {
   "cell_type": "code",
   "execution_count": 16,
   "id": "indoor-kingston",
   "metadata": {},
   "outputs": [
    {
     "data": {
      "text/plain": [
       "130.0+/-0.028867513459481287"
      ]
     },
     "execution_count": 16,
     "metadata": {},
     "output_type": "execute_result"
    }
   ],
   "source": [
    "(h6+h7+h8)/3"
   ]
  },
  {
   "cell_type": "code",
   "execution_count": 20,
   "id": "welcome-syndicate",
   "metadata": {},
   "outputs": [
    {
     "data": {
      "text/plain": [
       "80.0+/-0.028867513459481287"
      ]
     },
     "execution_count": 20,
     "metadata": {},
     "output_type": "execute_result"
    }
   ],
   "source": [
    "(h5+h9+h10)/3"
   ]
  }
 ],
 "metadata": {
  "kernelspec": {
   "display_name": "Python 3",
   "language": "python",
   "name": "python3"
  },
  "language_info": {
   "codemirror_mode": {
    "name": "ipython",
    "version": 3
   },
   "file_extension": ".py",
   "mimetype": "text/x-python",
   "name": "python",
   "nbconvert_exporter": "python",
   "pygments_lexer": "ipython3",
   "version": "3.9.2"
  }
 },
 "nbformat": 4,
 "nbformat_minor": 5
}
